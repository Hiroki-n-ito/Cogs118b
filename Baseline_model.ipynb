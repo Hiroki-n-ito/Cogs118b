{
 "cells": [
  {
   "cell_type": "code",
   "execution_count": 1,
   "id": "74d70d05-8c31-471b-97c1-76151a06228b",
   "metadata": {},
   "outputs": [
    {
     "name": "stdout",
     "output_type": "stream",
     "text": [
      "Warning: Corrupted image file ignored: ./bone_images/train/not_fractured/IMG0004134.jpg\n",
      "Warning: Skipping corrupted file: ./bone_images/train/not_fractured/IMG0004134.jpg\n",
      "Warning: Corrupted image file ignored: ./bone_images/train/not_fractured/IMG0004143.jpg\n",
      "Warning: Skipping corrupted file: ./bone_images/train/not_fractured/IMG0004143.jpg\n",
      "Warning: Corrupted image file ignored: ./bone_images/train/not_fractured/IMG0004148.jpg\n",
      "Warning: Skipping corrupted file: ./bone_images/train/not_fractured/IMG0004148.jpg\n",
      "Warning: Corrupted image file ignored: ./bone_images/train/not_fractured/IMG0004149.jpg\n",
      "Warning: Skipping corrupted file: ./bone_images/train/not_fractured/IMG0004149.jpg\n",
      "Warning: Corrupted image file ignored: ./bone_images/train/not_fractured/IMG0004308.jpg\n",
      "Warning: Skipping corrupted file: ./bone_images/train/not_fractured/IMG0004308.jpg\n",
      "Warning: Corrupted image file ignored: ./bone_images/train/not_fractured/IMG0004347.jpg\n",
      "Warning: Skipping corrupted file: ./bone_images/train/not_fractured/IMG0004347.jpg\n"
     ]
    },
    {
     "name": "stderr",
     "output_type": "stream",
     "text": [
      "/opt/conda/lib/python3.11/site-packages/PIL/Image.py:1056: UserWarning: Palette images with Transparency expressed in bytes should be converted to RGBA images\n",
      "  warnings.warn(\n"
     ]
    },
    {
     "name": "stdout",
     "output_type": "stream",
     "text": [
      "Warning: Corrupted image file ignored: ./bone_images/val/not_fractured/IMG0004134.jpg\n",
      "Warning: Skipping corrupted file: ./bone_images/val/not_fractured/IMG0004134.jpg\n",
      "Warning: Corrupted image file ignored: ./bone_images/val/not_fractured/IMG0004143.jpg\n",
      "Warning: Skipping corrupted file: ./bone_images/val/not_fractured/IMG0004143.jpg\n",
      "Warning: Corrupted image file ignored: ./bone_images/val/not_fractured/IMG0004148.jpg\n",
      "Warning: Skipping corrupted file: ./bone_images/val/not_fractured/IMG0004148.jpg\n",
      "Warning: Corrupted image file ignored: ./bone_images/val/not_fractured/IMG0004149.jpg\n",
      "Warning: Skipping corrupted file: ./bone_images/val/not_fractured/IMG0004149.jpg\n",
      "Warning: Corrupted image file ignored: ./bone_images/val/not_fractured/IMG0004308.jpg\n",
      "Warning: Skipping corrupted file: ./bone_images/val/not_fractured/IMG0004308.jpg\n",
      "Warning: Corrupted image file ignored: ./bone_images/val/not_fractured/IMG0004347.jpg\n",
      "Warning: Skipping corrupted file: ./bone_images/val/not_fractured/IMG0004347.jpg\n",
      "Warning: Corrupted image file ignored: ./bone_images/test/not_fractured/IMG0004134.jpg\n",
      "Warning: Skipping corrupted file: ./bone_images/test/not_fractured/IMG0004134.jpg\n",
      "Warning: Corrupted image file ignored: ./bone_images/test/not_fractured/IMG0004143.jpg\n",
      "Warning: Skipping corrupted file: ./bone_images/test/not_fractured/IMG0004143.jpg\n",
      "Warning: Corrupted image file ignored: ./bone_images/test/not_fractured/IMG0004148.jpg\n",
      "Warning: Skipping corrupted file: ./bone_images/test/not_fractured/IMG0004148.jpg\n",
      "Warning: Corrupted image file ignored: ./bone_images/test/not_fractured/IMG0004149.jpg\n",
      "Warning: Skipping corrupted file: ./bone_images/test/not_fractured/IMG0004149.jpg\n",
      "Warning: Corrupted image file ignored: ./bone_images/test/not_fractured/IMG0004308.jpg\n",
      "Warning: Skipping corrupted file: ./bone_images/test/not_fractured/IMG0004308.jpg\n",
      "Warning: Corrupted image file ignored: ./bone_images/test/not_fractured/IMG0004347.jpg\n",
      "Warning: Skipping corrupted file: ./bone_images/test/not_fractured/IMG0004347.jpg\n",
      "Class-to-index mapping: {'fractured': 0, 'not_fractured': 1}\n",
      "Training data size: 6109\n",
      "Validation data size: 823\n",
      "Test data size: 498\n",
      "Using device: cuda\n"
     ]
    },
    {
     "name": "stderr",
     "output_type": "stream",
     "text": [
      "Some weights of ResNetForImageClassification were not initialized from the model checkpoint at microsoft/resnet-50 and are newly initialized because the shapes did not match:\n",
      "- classifier.1.bias: found shape torch.Size([1000]) in the checkpoint and torch.Size([2]) in the model instantiated\n",
      "- classifier.1.weight: found shape torch.Size([1000, 2048]) in the checkpoint and torch.Size([2, 2048]) in the model instantiated\n",
      "You should probably TRAIN this model on a down-stream task to be able to use it for predictions and inference.\n"
     ]
    },
    {
     "name": "stdout",
     "output_type": "stream",
     "text": [
      "Epoch 1/10, Training Loss: 0.1605\n"
     ]
    },
    {
     "name": "stderr",
     "output_type": "stream",
     "text": [
      "/opt/conda/lib/python3.11/site-packages/PIL/Image.py:1056: UserWarning: Palette images with Transparency expressed in bytes should be converted to RGBA images\n",
      "  warnings.warn(\n"
     ]
    },
    {
     "name": "stdout",
     "output_type": "stream",
     "text": [
      "Validation Accuracy: 90.89%\n",
      "Saved the best model so far.\n",
      "Epoch 2/10, Training Loss: 0.0417\n"
     ]
    },
    {
     "name": "stderr",
     "output_type": "stream",
     "text": [
      "/opt/conda/lib/python3.11/site-packages/PIL/Image.py:1056: UserWarning: Palette images with Transparency expressed in bytes should be converted to RGBA images\n",
      "  warnings.warn(\n"
     ]
    },
    {
     "name": "stdout",
     "output_type": "stream",
     "text": [
      "Validation Accuracy: 89.31%\n",
      "Epoch 3/10, Training Loss: 0.0372\n"
     ]
    },
    {
     "name": "stderr",
     "output_type": "stream",
     "text": [
      "/opt/conda/lib/python3.11/site-packages/PIL/Image.py:1056: UserWarning: Palette images with Transparency expressed in bytes should be converted to RGBA images\n",
      "  warnings.warn(\n"
     ]
    },
    {
     "name": "stdout",
     "output_type": "stream",
     "text": [
      "Validation Accuracy: 96.48%\n",
      "Saved the best model so far.\n",
      "Epoch 4/10, Training Loss: 0.0305\n"
     ]
    },
    {
     "name": "stderr",
     "output_type": "stream",
     "text": [
      "/opt/conda/lib/python3.11/site-packages/PIL/Image.py:1056: UserWarning: Palette images with Transparency expressed in bytes should be converted to RGBA images\n",
      "  warnings.warn(\n"
     ]
    },
    {
     "name": "stdout",
     "output_type": "stream",
     "text": [
      "Validation Accuracy: 97.57%\n",
      "Saved the best model so far.\n",
      "Epoch 5/10, Training Loss: 0.0171\n"
     ]
    },
    {
     "name": "stderr",
     "output_type": "stream",
     "text": [
      "/opt/conda/lib/python3.11/site-packages/PIL/Image.py:1056: UserWarning: Palette images with Transparency expressed in bytes should be converted to RGBA images\n",
      "  warnings.warn(\n"
     ]
    },
    {
     "name": "stdout",
     "output_type": "stream",
     "text": [
      "Validation Accuracy: 97.21%\n",
      "Epoch 6/10, Training Loss: 0.0472\n"
     ]
    },
    {
     "name": "stderr",
     "output_type": "stream",
     "text": [
      "/opt/conda/lib/python3.11/site-packages/PIL/Image.py:1056: UserWarning: Palette images with Transparency expressed in bytes should be converted to RGBA images\n",
      "  warnings.warn(\n"
     ]
    },
    {
     "name": "stdout",
     "output_type": "stream",
     "text": [
      "Validation Accuracy: 94.53%\n",
      "Epoch 7/10, Training Loss: 0.0104\n"
     ]
    },
    {
     "name": "stderr",
     "output_type": "stream",
     "text": [
      "/opt/conda/lib/python3.11/site-packages/PIL/Image.py:1056: UserWarning: Palette images with Transparency expressed in bytes should be converted to RGBA images\n",
      "  warnings.warn(\n"
     ]
    },
    {
     "name": "stdout",
     "output_type": "stream",
     "text": [
      "Validation Accuracy: 98.42%\n",
      "Saved the best model so far.\n",
      "Epoch 8/10, Training Loss: 0.0257\n"
     ]
    },
    {
     "name": "stderr",
     "output_type": "stream",
     "text": [
      "/opt/conda/lib/python3.11/site-packages/PIL/Image.py:1056: UserWarning: Palette images with Transparency expressed in bytes should be converted to RGBA images\n",
      "  warnings.warn(\n"
     ]
    },
    {
     "name": "stdout",
     "output_type": "stream",
     "text": [
      "Validation Accuracy: 97.57%\n",
      "Epoch 9/10, Training Loss: 0.0098\n"
     ]
    },
    {
     "name": "stderr",
     "output_type": "stream",
     "text": [
      "/opt/conda/lib/python3.11/site-packages/PIL/Image.py:1056: UserWarning: Palette images with Transparency expressed in bytes should be converted to RGBA images\n",
      "  warnings.warn(\n"
     ]
    },
    {
     "name": "stdout",
     "output_type": "stream",
     "text": [
      "Validation Accuracy: 97.21%\n",
      "Epoch 10/10, Training Loss: 0.0022\n"
     ]
    },
    {
     "name": "stderr",
     "output_type": "stream",
     "text": [
      "/opt/conda/lib/python3.11/site-packages/PIL/Image.py:1056: UserWarning: Palette images with Transparency expressed in bytes should be converted to RGBA images\n",
      "  warnings.warn(\n"
     ]
    },
    {
     "name": "stdout",
     "output_type": "stream",
     "text": [
      "Validation Accuracy: 98.06%\n",
      "Test Accuracy: 98.80%\n",
      "New Test data size: 778\n",
      "New Test Accuracy (All Fractured): 94.60%\n"
     ]
    },
    {
     "data": {
      "image/png": "[encoded data removed]",
      "text/plain": [
       "<Figure size 1000x500 with 2 Axes>"
      ]
     },
     "metadata": {},
     "output_type": "display_data"
    }
   ],
   "source": [
    "import os\n",
    "import matplotlib.pyplot as plt  # For plotting\n",
    "from torchvision.datasets import ImageFolder\n",
    "from torchvision.datasets.folder import default_loader\n",
    "import torch\n",
    "import torch.nn as nn\n",
    "import torch.optim as optim\n",
    "from torchvision import transforms\n",
    "from torch.utils.data import DataLoader, Dataset\n",
    "\n",
    "\n",
    "class FilteredImageFolder(ImageFolder):\n",
    "    def find_classes(self, directory):\n",
    "        # List only visible directories (ignore hidden ones like .ipynb_checkpoints)\n",
    "        classes = [d for d in os.listdir(directory) if os.path.isdir(os.path.join(directory, d))]\n",
    "        classes = [d for d in classes if not d.startswith(\".\")]  \n",
    "        classes.sort()\n",
    "        class_to_idx = {cls_name: i for i, cls_name in enumerate(classes)}\n",
    "        return classes, class_to_idx\n",
    "\n",
    "    def __init__(self, *args, **kwargs):\n",
    "        super().__init__(*args, **kwargs)\n",
    "        # Filter out corrupted images\n",
    "        valid_samples = []\n",
    "        for path, target in self.samples:\n",
    "            img = self.loader(path)\n",
    "            if img is not None:\n",
    "                valid_samples.append((path, target))\n",
    "            else:\n",
    "                print(f\"Warning: Skipping corrupted file: {path}\")\n",
    "        self.samples = valid_samples\n",
    "\n",
    "    def __getitem__(self, index):\n",
    "        path, target = self.samples[index]\n",
    "        sample = self.loader(path)\n",
    "        if self.transform is not None:\n",
    "            sample = self.transform(sample)\n",
    "        if self.target_transform is not None:\n",
    "            target = self.target_transform(target)\n",
    "        return sample, target\n",
    "\n",
    "class SingleFolderDataset(Dataset):\n",
    "    def __init__(self, root, transform=None, target_class_idx=0):\n",
    "        \n",
    "        self.root = root\n",
    "        self.paths = [os.path.join(root, f) for f in os.listdir(root) \n",
    "                      if is_valid_file(os.path.join(root, f))]\n",
    "        self.transform = transform\n",
    "        self.target_class_idx = target_class_idx  \n",
    "\n",
    "    def __len__(self):\n",
    "        return len(self.paths)\n",
    "\n",
    "    def __getitem__(self, idx):\n",
    "        path = self.paths[idx]\n",
    "        img = safe_loader(path)\n",
    "        if img is None:\n",
    "            dummy = torch.zeros((3,224,224), dtype=torch.float)\n",
    "            return dummy, self.target_class_idx\n",
    "        if self.transform is not None:\n",
    "            img = self.transform(img)\n",
    "        return img, self.target_class_idx\n",
    "\n",
    "def safe_loader(path):\n",
    "    try:\n",
    "        return default_loader(path)\n",
    "    except OSError:\n",
    "        print(f\"Warning: Corrupted image file ignored: {path}\")\n",
    "        return None\n",
    "\n",
    "def is_valid_file(path):\n",
    "    valid_extensions = (\".jpg\", \".jpeg\", \".png\", \".bmp\", \".tiff\", \".webp\")\n",
    "    return path.lower().endswith(valid_extensions)\n",
    "\n",
    "\n",
    "data_dir = \"./bone_images\"  \n",
    "\n",
    "train_data = FilteredImageFolder(\n",
    "    root=os.path.join(data_dir, 'train'),\n",
    "    is_valid_file=is_valid_file,\n",
    "    loader=safe_loader\n",
    ")\n",
    "val_data = FilteredImageFolder(\n",
    "    root=os.path.join(data_dir, 'val'),\n",
    "    is_valid_file=is_valid_file,\n",
    "    loader=safe_loader\n",
    ")\n",
    "test_data = FilteredImageFolder(\n",
    "    root=os.path.join(data_dir, 'test'),\n",
    "    is_valid_file=is_valid_file,\n",
    "    loader=safe_loader\n",
    ")\n",
    "\n",
    "print(f\"Class-to-index mapping: {train_data.class_to_idx}\") \n",
    "print(f\"Training data size: {len(train_data)}\")\n",
    "print(f\"Validation data size: {len(val_data)}\")\n",
    "print(f\"Test data size: {len(test_data)}\")\n",
    "\n",
    "from torchvision import transforms\n",
    "from torch.utils.data import DataLoader\n",
    "\n",
    "transform = transforms.Compose([\n",
    "    transforms.Resize((224, 224)),  # Resize to model input size\n",
    "    transforms.ToTensor(),          \n",
    "    transforms.Normalize(mean=[0.485, 0.456, 0.406], std=[0.229, 0.224, 0.225])  # ImageNet normalization\n",
    "])\n",
    "\n",
    "train_data.transform = transform\n",
    "val_data.transform = transform\n",
    "test_data.transform = transform\n",
    "\n",
    "train_loader = DataLoader(train_data, batch_size=16, shuffle=True, num_workers=4)\n",
    "val_loader = DataLoader(val_data, batch_size=16, shuffle=False, num_workers=4)\n",
    "test_loader = DataLoader(test_data, batch_size=16, shuffle=False, num_workers=4)\n",
    "\n",
    "from transformers import ResNetForImageClassification\n",
    "import torch\n",
    "import torch.nn as nn\n",
    "import torch.optim as optim\n",
    "\n",
    "# Check for GPU\n",
    "device = torch.device('cuda' if torch.cuda.is_available() else 'cpu')\n",
    "print(f\"Using device: {device}\")\n",
    "\n",
    "# Enforce GPU usage\n",
    "if device.type != 'cuda':\n",
    "    raise RuntimeError(\"CUDA is not available. Please run this code on a machine with a CUDA-enabled GPU.\")\n",
    "\n",
    "model = ResNetForImageClassification.from_pretrained(\n",
    "    \"microsoft/resnet-50\",\n",
    "    num_labels=2, \n",
    "    ignore_mismatched_sizes=True\n",
    ")\n",
    "model.to(device)\n",
    "\n",
    "criterion = nn.CrossEntropyLoss()\n",
    "optimizer = optim.Adam(model.parameters(), lr=0.001)\n",
    "\n",
    "epochs = 10\n",
    "best_val_accuracy = 0.0\n",
    "\n",
    "train_losses = []\n",
    "val_accuracies = []\n",
    "\n",
    "for epoch in range(epochs):\n",
    "    model.train()\n",
    "    running_loss = 0.0\n",
    "    for inputs, labels in train_loader:\n",
    "        inputs, labels = inputs.to(device), labels.to(device)\n",
    "\n",
    "        # Forward pass\n",
    "        optimizer.zero_grad()\n",
    "        outputs = model(pixel_values=inputs).logits\n",
    "        loss = criterion(outputs, labels)\n",
    "        loss.backward()\n",
    "        optimizer.step()\n",
    "\n",
    "        running_loss += loss.item()\n",
    "\n",
    "    train_loss = running_loss / len(train_loader)\n",
    "    train_losses.append(train_loss)\n",
    "    print(f\"Epoch {epoch+1}/{epochs}, Training Loss: {train_loss:.4f}\")\n",
    "\n",
    "    # Validation loop\n",
    "    model.eval()\n",
    "    val_correct = 0\n",
    "    val_total = 0\n",
    "    with torch.no_grad():\n",
    "        for inputs, labels in val_loader:\n",
    "            inputs, labels = inputs.to(device), labels.to(device)\n",
    "            outputs = model(pixel_values=inputs).logits\n",
    "            _, predicted = torch.max(outputs, 1)\n",
    "            val_total += labels.size(0)\n",
    "            val_correct += (predicted == labels).sum().item()\n",
    "\n",
    "    val_accuracy = 100 * val_correct / val_total\n",
    "    val_accuracies.append(val_accuracy)\n",
    "    print(f\"Validation Accuracy: {val_accuracy:.2f}%\")\n",
    "\n",
    "    # Save best model\n",
    "    if val_accuracy > best_val_accuracy:\n",
    "        best_val_accuracy = val_accuracy\n",
    "        model.save_pretrained(\"./best_resnet50_fracture_classifier\")\n",
    "        print(\"Saved the best model so far.\")\n",
    "\n",
    "\n",
    "model.eval()\n",
    "test_correct = 0\n",
    "test_total = 0\n",
    "with torch.no_grad():\n",
    "    for inputs, labels in test_loader:\n",
    "        inputs, labels = inputs.to(device), labels.to(device)\n",
    "        outputs = model(pixel_values=inputs).logits\n",
    "        _, predicted = torch.max(outputs, 1)\n",
    "        test_total += labels.size(0)\n",
    "        test_correct += (predicted == labels).sum().item()\n",
    "\n",
    "test_accuracy = 100 * test_correct / test_total\n",
    "print(f\"Test Accuracy: {test_accuracy:.2f}%\")\n",
    "\n",
    "\n",
    "\n",
    "new_test_dir = os.path.join(data_dir, 'new_test')  # Directory for new_test\n",
    "\n",
    "fractured_class_idx = train_data.class_to_idx['fractured']\n",
    "\n",
    "new_test_data = SingleFolderDataset(\n",
    "    root=new_test_dir,\n",
    "    transform=transform,\n",
    "    target_class_idx=fractured_class_idx\n",
    ")\n",
    "new_test_loader = DataLoader(new_test_data, batch_size=16, shuffle=False, num_workers=4)\n",
    "\n",
    "print(f\"New Test data size: {len(new_test_data)}\")\n",
    "\n",
    "# Evaluate on new_test dataset\n",
    "new_test_correct = 0\n",
    "new_test_total = 0\n",
    "with torch.no_grad():\n",
    "    for inputs, labels in new_test_loader:\n",
    "        inputs, labels = inputs.to(device), labels.to(device)\n",
    "        outputs = model(pixel_values=inputs).logits\n",
    "        _, predicted = torch.max(outputs, 1)\n",
    "        new_test_total += labels.size(0)\n",
    "        new_test_correct += (predicted == labels).sum().item()\n",
    "\n",
    "new_test_accuracy = 100 * new_test_correct / new_test_total\n",
    "print(f\"New Test Accuracy (All Fractured): {new_test_accuracy:.2f}%\")\n",
    "\n",
    "# Plotting Training Loss and Validation Accuracy\n",
    "plt.figure(figsize=(10,5))\n",
    "\n",
    "# Subplot for training loss\n",
    "plt.subplot(1,2,1)\n",
    "plt.plot(range(1, len(train_losses)+1), train_losses, marker='o', color='blue')\n",
    "plt.title('Training Loss over Epochs')\n",
    "plt.xlabel('Epoch')\n",
    "plt.ylabel('Loss')\n",
    "plt.grid(True)\n",
    "\n",
    "# Subplot for validation accuracy\n",
    "plt.subplot(1,2,2)\n",
    "plt.plot(range(1, len(val_accuracies)+1), val_accuracies, marker='o', color='orange')\n",
    "plt.title('Validation Accuracy over Epochs')\n",
    "plt.xlabel('Epoch')\n",
    "plt.ylabel('Accuracy (%)')\n",
    "plt.grid(True)\n",
    "\n",
    "plt.tight_layout()\n",
    "\n",
    "plt.show()"
   ]
  },
  {
   "cell_type": "code",
   "execution_count": null,
   "id": "d54b4bb4-8505-4a35-8f2a-baa3b7c43b0d",
   "metadata": {},
   "outputs": [],
   "source": []
  }
 ],
 "metadata": {
  "kernelspec": {
   "display_name": "Python 3 (ipykernel)",
   "language": "python",
   "name": "python3"
  },
  "language_info": {
   "codemirror_mode": {
    "name": "ipython",
    "version": 3
   },
   "file_extension": ".py",
   "mimetype": "text/x-python",
   "name": "python",
   "nbconvert_exporter": "python",
   "pygments_lexer": "ipython3",
   "version": "3.11.9"
  }
 },
 "nbformat": 4,
 "nbformat_minor": 5
}
