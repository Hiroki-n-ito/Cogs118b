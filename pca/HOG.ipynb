{
 "cells": [
  {
   "cell_type": "code",
   "execution_count": 1,
   "id": "e11965cf-6692-47ef-b8e4-f656f2be5cc5",
   "metadata": {},
   "outputs": [
    {
     "name": "stdout",
     "output_type": "stream",
     "text": [
      "Requirement already satisfied: opencv-python in /opt/anaconda3/lib/python3.12/site-packages (4.10.0.84)\n",
      "Requirement already satisfied: numpy>=1.21.2 in /opt/anaconda3/lib/python3.12/site-packages (from opencv-python) (1.26.4)\n",
      "Note: you may need to restart the kernel to use updated packages.\n"
     ]
    }
   ],
   "source": [
    "pip install opencv-python "
   ]
  },
  {
   "cell_type": "code",
   "execution_count": 2,
   "id": "e162a4b5-070e-42ef-9caf-c146c904c236",
   "metadata": {
    "scrolled": true
   },
   "outputs": [
    {
     "name": "stdout",
     "output_type": "stream",
     "text": [
      "Requirement already satisfied: torch in /opt/anaconda3/lib/python3.12/site-packages (2.5.1)\n",
      "Requirement already satisfied: filelock in /opt/anaconda3/lib/python3.12/site-packages (from torch) (3.13.1)\n",
      "Requirement already satisfied: typing-extensions>=4.8.0 in /opt/anaconda3/lib/python3.12/site-packages (from torch) (4.11.0)\n",
      "Requirement already satisfied: networkx in /opt/anaconda3/lib/python3.12/site-packages (from torch) (3.3)\n",
      "Requirement already satisfied: jinja2 in /opt/anaconda3/lib/python3.12/site-packages (from torch) (3.1.4)\n",
      "Requirement already satisfied: fsspec in /opt/anaconda3/lib/python3.12/site-packages (from torch) (2024.6.1)\n",
      "Requirement already satisfied: setuptools in /opt/anaconda3/lib/python3.12/site-packages (from torch) (75.1.0)\n",
      "Requirement already satisfied: sympy==1.13.1 in /opt/anaconda3/lib/python3.12/site-packages (from torch) (1.13.1)\n",
      "Requirement already satisfied: mpmath<1.4,>=1.1.0 in /opt/anaconda3/lib/python3.12/site-packages (from sympy==1.13.1->torch) (1.3.0)\n",
      "Requirement already satisfied: MarkupSafe>=2.0 in /opt/anaconda3/lib/python3.12/site-packages (from jinja2->torch) (2.1.3)\n",
      "Note: you may need to restart the kernel to use updated packages.\n"
     ]
    }
   ],
   "source": [
    "pip install torch"
   ]
  },
  {
   "cell_type": "code",
   "execution_count": 3,
   "id": "0ae3060c-5f17-467c-a13a-97bdb3429af3",
   "metadata": {
    "scrolled": true
   },
   "outputs": [
    {
     "name": "stdout",
     "output_type": "stream",
     "text": [
      "Requirement already satisfied: torchvision in /opt/anaconda3/lib/python3.12/site-packages (0.20.1)\n",
      "Requirement already satisfied: numpy in /opt/anaconda3/lib/python3.12/site-packages (from torchvision) (1.26.4)\n",
      "Requirement already satisfied: torch==2.5.1 in /opt/anaconda3/lib/python3.12/site-packages (from torchvision) (2.5.1)\n",
      "Requirement already satisfied: pillow!=8.3.*,>=5.3.0 in /opt/anaconda3/lib/python3.12/site-packages (from torchvision) (10.4.0)\n",
      "Requirement already satisfied: filelock in /opt/anaconda3/lib/python3.12/site-packages (from torch==2.5.1->torchvision) (3.13.1)\n",
      "Requirement already satisfied: typing-extensions>=4.8.0 in /opt/anaconda3/lib/python3.12/site-packages (from torch==2.5.1->torchvision) (4.11.0)\n",
      "Requirement already satisfied: networkx in /opt/anaconda3/lib/python3.12/site-packages (from torch==2.5.1->torchvision) (3.3)\n",
      "Requirement already satisfied: jinja2 in /opt/anaconda3/lib/python3.12/site-packages (from torch==2.5.1->torchvision) (3.1.4)\n",
      "Requirement already satisfied: fsspec in /opt/anaconda3/lib/python3.12/site-packages (from torch==2.5.1->torchvision) (2024.6.1)\n",
      "Requirement already satisfied: setuptools in /opt/anaconda3/lib/python3.12/site-packages (from torch==2.5.1->torchvision) (75.1.0)\n",
      "Requirement already satisfied: sympy==1.13.1 in /opt/anaconda3/lib/python3.12/site-packages (from torch==2.5.1->torchvision) (1.13.1)\n",
      "Requirement already satisfied: mpmath<1.4,>=1.1.0 in /opt/anaconda3/lib/python3.12/site-packages (from sympy==1.13.1->torch==2.5.1->torchvision) (1.3.0)\n",
      "Requirement already satisfied: MarkupSafe>=2.0 in /opt/anaconda3/lib/python3.12/site-packages (from jinja2->torch==2.5.1->torchvision) (2.1.3)\n",
      "Note: you may need to restart the kernel to use updated packages.\n"
     ]
    }
   ],
   "source": [
    "pip install torchvision"
   ]
  },
  {
   "cell_type": "code",
   "execution_count": 4,
   "id": "548e911c-740a-4cc6-b094-ad5b5c31f78b",
   "metadata": {},
   "outputs": [
    {
     "name": "stdout",
     "output_type": "stream",
     "text": [
      "Requirement already satisfied: opencv-python in /opt/anaconda3/lib/python3.12/site-packages (4.10.0.84)\n",
      "Requirement already satisfied: matplotlib in /opt/anaconda3/lib/python3.12/site-packages (3.9.2)\n",
      "Requirement already satisfied: scikit-image in /opt/anaconda3/lib/python3.12/site-packages (0.24.0)\n",
      "Requirement already satisfied: numpy in /opt/anaconda3/lib/python3.12/site-packages (1.26.4)\n",
      "Requirement already satisfied: contourpy>=1.0.1 in /opt/anaconda3/lib/python3.12/site-packages (from matplotlib) (1.2.0)\n",
      "Requirement already satisfied: cycler>=0.10 in /opt/anaconda3/lib/python3.12/site-packages (from matplotlib) (0.11.0)\n",
      "Requirement already satisfied: fonttools>=4.22.0 in /opt/anaconda3/lib/python3.12/site-packages (from matplotlib) (4.51.0)\n",
      "Requirement already satisfied: kiwisolver>=1.3.1 in /opt/anaconda3/lib/python3.12/site-packages (from matplotlib) (1.4.4)\n",
      "Requirement already satisfied: packaging>=20.0 in /opt/anaconda3/lib/python3.12/site-packages (from matplotlib) (24.1)\n",
      "Requirement already satisfied: pillow>=8 in /opt/anaconda3/lib/python3.12/site-packages (from matplotlib) (10.4.0)\n",
      "Requirement already satisfied: pyparsing>=2.3.1 in /opt/anaconda3/lib/python3.12/site-packages (from matplotlib) (3.1.2)\n",
      "Requirement already satisfied: python-dateutil>=2.7 in /opt/anaconda3/lib/python3.12/site-packages (from matplotlib) (2.9.0.post0)\n",
      "Requirement already satisfied: scipy>=1.9 in /opt/anaconda3/lib/python3.12/site-packages (from scikit-image) (1.13.1)\n",
      "Requirement already satisfied: networkx>=2.8 in /opt/anaconda3/lib/python3.12/site-packages (from scikit-image) (3.3)\n",
      "Requirement already satisfied: imageio>=2.33 in /opt/anaconda3/lib/python3.12/site-packages (from scikit-image) (2.33.1)\n",
      "Requirement already satisfied: tifffile>=2022.8.12 in /opt/anaconda3/lib/python3.12/site-packages (from scikit-image) (2023.4.12)\n",
      "Requirement already satisfied: lazy-loader>=0.4 in /opt/anaconda3/lib/python3.12/site-packages (from scikit-image) (0.4)\n",
      "Requirement already satisfied: six>=1.5 in /opt/anaconda3/lib/python3.12/site-packages (from python-dateutil>=2.7->matplotlib) (1.16.0)\n",
      "Note: you may need to restart the kernel to use updated packages.\n"
     ]
    }
   ],
   "source": [
    "pip install opencv-python matplotlib scikit-image numpy"
   ]
  },
  {
   "cell_type": "code",
   "execution_count": 5,
   "id": "aaf62e62-d6a9-45dd-b354-8b67d02f0614",
   "metadata": {},
   "outputs": [
    {
     "name": "stdout",
     "output_type": "stream",
     "text": [
      "Requirement already satisfied: scikit-image in /opt/anaconda3/lib/python3.12/site-packages (0.24.0)\n",
      "Requirement already satisfied: matplotlib in /opt/anaconda3/lib/python3.12/site-packages (3.9.2)\n",
      "Requirement already satisfied: numpy in /opt/anaconda3/lib/python3.12/site-packages (1.26.4)\n",
      "Requirement already satisfied: scipy>=1.9 in /opt/anaconda3/lib/python3.12/site-packages (from scikit-image) (1.13.1)\n",
      "Requirement already satisfied: networkx>=2.8 in /opt/anaconda3/lib/python3.12/site-packages (from scikit-image) (3.3)\n",
      "Requirement already satisfied: pillow>=9.1 in /opt/anaconda3/lib/python3.12/site-packages (from scikit-image) (10.4.0)\n",
      "Requirement already satisfied: imageio>=2.33 in /opt/anaconda3/lib/python3.12/site-packages (from scikit-image) (2.33.1)\n",
      "Requirement already satisfied: tifffile>=2022.8.12 in /opt/anaconda3/lib/python3.12/site-packages (from scikit-image) (2023.4.12)\n",
      "Requirement already satisfied: packaging>=21 in /opt/anaconda3/lib/python3.12/site-packages (from scikit-image) (24.1)\n",
      "Requirement already satisfied: lazy-loader>=0.4 in /opt/anaconda3/lib/python3.12/site-packages (from scikit-image) (0.4)\n",
      "Requirement already satisfied: contourpy>=1.0.1 in /opt/anaconda3/lib/python3.12/site-packages (from matplotlib) (1.2.0)\n",
      "Requirement already satisfied: cycler>=0.10 in /opt/anaconda3/lib/python3.12/site-packages (from matplotlib) (0.11.0)\n",
      "Requirement already satisfied: fonttools>=4.22.0 in /opt/anaconda3/lib/python3.12/site-packages (from matplotlib) (4.51.0)\n",
      "Requirement already satisfied: kiwisolver>=1.3.1 in /opt/anaconda3/lib/python3.12/site-packages (from matplotlib) (1.4.4)\n",
      "Requirement already satisfied: pyparsing>=2.3.1 in /opt/anaconda3/lib/python3.12/site-packages (from matplotlib) (3.1.2)\n",
      "Requirement already satisfied: python-dateutil>=2.7 in /opt/anaconda3/lib/python3.12/site-packages (from matplotlib) (2.9.0.post0)\n",
      "Requirement already satisfied: six>=1.5 in /opt/anaconda3/lib/python3.12/site-packages (from python-dateutil>=2.7->matplotlib) (1.16.0)\n",
      "Note: you may need to restart the kernel to use updated packages.\n"
     ]
    }
   ],
   "source": [
    "pip install scikit-image matplotlib numpy"
   ]
  },
  {
   "cell_type": "code",
   "execution_count": 6,
   "id": "4b844eca-3897-44b1-9050-b591632a6a09",
   "metadata": {},
   "outputs": [],
   "source": [
    "import pandas as pd\n",
    "import numpy as np\n",
    "import os\n",
    "import matplotlib.pyplot as plt\n",
    "import cv2\n",
    "\n",
    "from skimage.feature import graycoprops, graycomatrix\n",
    "from skimage.io import imread\n",
    "from skimage.transform import resize\n",
    "from skimage.feature import hog\n",
    "from skimage import exposure\n",
    "import matplotlib.pyplot as plt\n",
    "\n",
    "from sklearn.preprocessing import StandardScaler\n",
    "from sklearn.model_selection import train_test_split\n",
    "from sklearn.decomposition import PCA\n",
    "import seaborn as sns\n",
    "\n",
    "from sklearn.naive_bayes import GaussianNB\n",
    "from sklearn.metrics import accuracy_score, confusion_matrix\n",
    "\n",
    "import torch\n",
    "from torchvision import models\n",
    "import torchvision.transforms as transforms"
   ]
  },
  {
   "cell_type": "markdown",
   "id": "9e7e7924-b35e-430d-94a4-90a87cfee423",
   "metadata": {},
   "source": [
    "# Preprocessing"
   ]
  },
  {
   "cell_type": "code",
   "execution_count": 8,
   "id": "00b669fd-fc64-453a-97af-b7c188bf6436",
   "metadata": {},
   "outputs": [],
   "source": [
    "def load_images(dir_name):\n",
    "\n",
    "    img_list = []\n",
    "\n",
    "    clahe = cv2.createCLAHE(clipLimit=2.0, tileGridSize=(8,8))\n",
    "\n",
    "    for item in os.listdir(dir_name):\n",
    "\n",
    "        img_path = os.path.join(dir_name, item)\n",
    "        #print(img_path)\n",
    "        img = cv2.imread(img_path, cv2.IMREAD_GRAYSCALE)\n",
    "\n",
    "        img = cv2.GaussianBlur(img, (5,5), 1)\n",
    "\n",
    "        img = clahe.apply(img)\n",
    "        \n",
    "        img_list.append(img)\n",
    "\n",
    "    \n",
    "    return img_list\n",
    " \n",
    "def img_to_array(img):\n",
    "    \n",
    "    \n",
    "    img = np.asarray(img)\n",
    "    return img\n",
    "  \n",
    "def find_edges(img_list):\n",
    "\n",
    "    for i, img in enumerate(img_list):\n",
    "        \n",
    "        v = np.median(img)\n",
    "        sigma = 0.33\n",
    "\n",
    "        lower = int(max(0, (1.0 - sigma) * v))\n",
    "        upper = int(max(0, (1.0 + sigma) * v))\n",
    "\n",
    "        img = cv2.Canny(img, lower, upper)\n",
    "        \n",
    "        img_list[i] = img\n",
    "\n",
    "    \n",
    "    return img_list\n",
    "\n",
    "def find_edge(img):\n",
    "    v = np.median(img)\n",
    "    sigma = 0.33\n",
    "\n",
    "    lower = int(max(0, (1.0 - sigma) * v))\n",
    "    upper = int(max(0, (1.0 + sigma) * v))\n",
    "\n",
    "    img = cv2.Canny(img, lower, upper)\n",
    "    \n",
    "    return img\n",
    "\n",
    "def get_features(image_list):\n",
    "\n",
    "    feature_list = []\n",
    "\n",
    "    distances = [1,3,5,9]\n",
    "    angles = [0, np.pi/4, np.pi/2, 3*np.pi/4, np.pi, 5*np.pi/4, 3*np.pi/2]\n",
    "\n",
    "    properties = ['energy', 'correlation', 'dissimilarity', 'homogeneity', 'contrast']\n",
    "\n",
    "    # need to add more distances (1,3,5,9)\n",
    "    for n, img in enumerate(image_list):\n",
    "        glcm = graycomatrix(img, distances, angles , levels=256, normed=True)\n",
    "        feature_row = {}\n",
    "\n",
    "        for prop in properties:\n",
    "            prop_values = graycoprops(glcm, prop)   \n",
    "            for i, dist in enumerate(distances):\n",
    "                for j, angle in enumerate(angles): \n",
    "                    feature_name = f\"{prop}_d{dist}_a{int(np.degrees(angle))}\"\n",
    "                    feature_row[feature_name] = prop_values[i, j]\n",
    "\n",
    "        feature_list.append(feature_row)\n",
    "    return feature_list\n",
    "\n",
    "def view_corr(df):\n",
    "    corr_matrix = df.corr()\n",
    "    sns.heatmap(corr_matrix)\n",
    "    plt.show()\n",
    "\n",
    "def pca_df_pick_comp(df):\n",
    "\n",
    "    scaler = StandardScaler()\n",
    "    scaled_features = scaler.fit_transform(df)\n",
    "\n",
    "    pca = PCA()\n",
    "    pca_features = pca.fit_transform(scaled_features)\n",
    "\n",
    "    pca_df = pd.DataFrame(pca_features, columns=[f\"PC{i+1}\" for i in range(pca.n_components_)])\n",
    "\n",
    "    pca_tot = pca_df\n",
    "    plt.plot(range(1,len(pca.explained_variance_ratio_)+1), pca.explained_variance_ratio_.cumsum())\n",
    "    plt.xlabel(\"Num of components\")\n",
    "    plt.ylabel('Cumulative exlpained by variance')\n",
    "    plt.title('explained variance by pca components')\n",
    "    plt.show()\n",
    "\n",
    "    cumulative_var = pca.explained_variance_ratio_.cumsum()\n",
    "    n_components = 0\n",
    "\n",
    "    for i, var in enumerate(cumulative_var):\n",
    "        if var >= 0.95:\n",
    "            n_components = i + 1\n",
    "            break\n",
    "\n",
    "    pca = PCA(n_components=n_components)\n",
    "    reduced_features = pca.fit_transform(scaled_features)\n",
    "\n",
    "    pca_columns = [f\"PC{i+1}\" for i in range(n_components)]\n",
    "    pca_df= pd.DataFrame(reduced_features, columns=pca_columns)\n",
    "\n",
    "    return pca_df, pca_tot"
   ]
  },
  {
   "cell_type": "markdown",
   "id": "cb154401-0715-44ab-a90c-8e53ce06aae4",
   "metadata": {},
   "source": [
    "# HOG Feature"
   ]
  },
  {
   "cell_type": "code",
   "execution_count": null,
   "id": "018439ad-0fa9-4bbe-8e06-3702394322b4",
   "metadata": {},
   "outputs": [],
   "source": [
    "def extract_hog_features(image_path):\n",
    "    # Read the image\n",
    "    image = cv2.imread(image_path)\n",
    "    \n",
    "    # Convert to grayscale\n",
    "    gray = cv2.cvtColor(image, cv2.COLOR_BGR2GRAY)\n",
    "    \n",
    "    # Compute HOG features with visualization\n",
    "    fd, hog_image = hog(gray, \n",
    "                        orientations=9, \n",
    "                        pixels_per_cell=(8, 8), \n",
    "                        cells_per_block=(2, 2), \n",
    "                        visualize=True)\n",
    "    \n",
    "    return fd, hog_image\n",
    "\n",
    "def load_images(directory):\n",
    "    image_paths = []\n",
    "    for filename in os.listdir(directory):\n",
    "        if filename.lower().endswith(('.png', '.jpg', '.jpeg', '.bmp', '.tif', '.tiff')):\n",
    "            full_path = os.path.join(directory, filename)\n",
    "            image_paths.append(full_path)\n",
    "    return image_paths\n",
    "\n",
    "# Load images from different directories\n",
    "image_list_1 = load_images(\"./data_xray/Impacted fracture\")\n",
    "image_list_2 = load_images(\"./data_xray/Intra-articular fracture\")\n",
    "image_list_3 = load_images(\"./data_xray/Longitudinal fracture\")\n",
    "image_list_4 = load_images(\"./data_xray/Oblique fracture\")\n",
    "\n",
    "# Extract HOG features for each list\n",
    "hog_features_1 = [extract_hog_features(path)[0] for path in image_list_1]\n",
    "hog_features_2 = [extract_hog_features(path)[0] for path in image_list_2]\n",
    "hog_features_3 = [extract_hog_features(path)[0] for path in image_list_3]\n",
    "hog_features_4 = [extract_hog_features(path)[0] for path in image_list_4]\n",
    "\n",
    "# Visualization of HOG features for the first image set\n",
    "if image_list_1:\n",
    "    plt.figure(figsize=(10, 5))\n",
    "    \n",
    "    # Original image\n",
    "    original_image = cv2.imread(image_list_1[0])\n",
    "    original_image_rgb = cv2.cvtColor(original_image, cv2.COLOR_BGR2RGB)\n",
    "    plt.subplot(1, 2, 1)\n",
    "    plt.title(\"Original Image\")\n",
    "    plt.imshow(original_image_rgb)\n",
    "    plt.axis('off')\n",
    "    \n",
    "    # HOG visualization\n",
    "    _, hog_image = extract_hog_features(image_list_1[0])\n",
    "    plt.subplot(1, 2, 2)\n",
    "    plt.title(\"HOG Feature Visualization\")\n",
    "    plt.imshow(hog_image, cmap='gray')\n",
    "    plt.axis('off')\n",
    "    \n",
    "    plt.tight_layout()\n",
    "    plt.show()\n",
    "\n",
    "print(f\"Total images processed for set 1: {len(image_list_1)}\")\n",
    "print(f\"Shape of first HOG feature vector for set 1: {hog_features_1[0].shape}\")"
   ]
  },
  {
   "cell_type": "markdown",
   "id": "22aa7ed4-9eb8-465d-8190-f3ccc506322f",
   "metadata": {},
   "source": [
    "# Edge Detection"
   ]
  },
  {
   "cell_type": "code",
   "execution_count": null,
   "id": "ffe34fb3-947e-485a-bb54-71351736b60f",
   "metadata": {},
   "outputs": [],
   "source": [
    "def perform_edge_detection(image_paths, num_to_display=5):\n",
    "    for i, image_path in enumerate(image_paths[:num_to_display]):\n",
    "        try:\n",
    "            # Read the image in grayscale\n",
    "            image = imread(image_path, as_gray=True)\n",
    "            \n",
    "            # Calculate edges\n",
    "            edges_horizontal = prewitt_h(image)\n",
    "            edges_vertical = prewitt_v(image)\n",
    "            \n",
    "            # Display results\n",
    "            plt.figure(figsize=(15, 5))\n",
    "            \n",
    "            plt.subplot(1, 3, 1)\n",
    "            plt.title(\"Original Image\")\n",
    "            plt.imshow(image, cmap='gray')\n",
    "            plt.axis('off')\n",
    "            \n",
    "            plt.subplot(1, 3, 2)\n",
    "            plt.title(\"Horizontal Edges\")\n",
    "            plt.imshow(edges_horizontal, cmap='gray')\n",
    "            plt.axis('off')\n",
    "            \n",
    "            plt.subplot(1, 3, 3)\n",
    "            plt.title(\"Vertical Edges\")\n",
    "            plt.imshow(edges_vertical, cmap='gray')\n",
    "            plt.axis('off')\n",
    "            \n",
    "            plt.tight_layout()\n",
    "            plt.show()\n",
    "        \n",
    "        except Exception as e:\n",
    "            print(f\"Error processing {image_path}: {e}\")\n",
    "\n",
    "perform_edge_detection(image_list_1)"
   ]
  },
  {
   "cell_type": "code",
   "execution_count": null,
   "id": "7c4ebb76-208d-41a5-b899-caf69a4c262d",
   "metadata": {},
   "outputs": [],
   "source": []
  }
 ],
 "metadata": {
  "kernelspec": {
   "display_name": "Python 3 (ipykernel)",
   "language": "python",
   "name": "python3"
  },
  "language_info": {
   "codemirror_mode": {
    "name": "ipython",
    "version": 3
   },
   "file_extension": ".py",
   "mimetype": "text/x-python",
   "name": "python",
   "nbconvert_exporter": "python",
   "pygments_lexer": "ipython3",
   "version": "3.12.7"
  }
 },
 "nbformat": 4,
 "nbformat_minor": 5
}
